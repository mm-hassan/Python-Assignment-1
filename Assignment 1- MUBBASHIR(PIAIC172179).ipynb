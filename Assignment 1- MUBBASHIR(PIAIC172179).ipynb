{
 "cells": [
  {
   "cell_type": "markdown",
   "metadata": {},
   "source": [
    "**MUHAMMAD MUBBASHIR HASSAN**\n",
    "**(PIAIC172179)**\n",
    "\n",
    "Grand Assignment\n",
    "Variables and Strings\n",
    "\n",
    "1.Simple Message: Assign a message to a variable, and then print that message.\n"
   ]
  },
  {
   "cell_type": "code",
   "execution_count": 6,
   "metadata": {},
   "outputs": [
    {
     "name": "stdout",
     "output_type": "stream",
     "text": [
      "My name is Mubbashir Hassan and currently studying Computer System Engineering\n"
     ]
    }
   ],
   "source": [
    "name= \"Mubbashir Hassan\"\n",
    "education= \"Computer System Engineering\"\n",
    "print (\"My name is\",name,\"and currently studying\",education)"
   ]
  },
  {
   "cell_type": "markdown",
   "metadata": {},
   "source": [
    "2.Find a quote from a famous person you admire. Print the quote and the name of its author. Your output should look something like the following, including the quotation marks:\n",
    "\n",
    "Albert Einstein once said, “A person who never made a mistake never tried anything new.”"
   ]
  },
  {
   "cell_type": "code",
   "execution_count": 11,
   "metadata": {},
   "outputs": [
    {
     "name": "stdout",
     "output_type": "stream",
     "text": [
      "Imran Khan once said,\"Never give up, no matter how hard life gets no matter how much pain you feel. Pain will eventually subside, nothing remains forever, so keep going and dont give up.\"\n"
     ]
    }
   ],
   "source": [
    "print('''Imran Khan once said,\"Never give up, no matter how hard life gets no matter how much pain you feel. \n",
    "Pain will eventually subside, nothing remains forever, so keep going and dont give up.\"''')"
   ]
  },
  {
   "cell_type": "markdown",
   "metadata": {},
   "source": [
    "\n",
    "\n",
    "    Calculate Area of a Circle::\n",
    "\n",
    "Write a Python program which accepts the radius of a circle from the user and compute the area.\n",
    "\n",
    "Program Console Sample Output 1:\n",
    "\n",
    "Input Radius: 0.5\n",
    "\n",
    "Area of Circle with radius 0.5 is 0.7853981634\n"
   ]
  },
  {
   "cell_type": "code",
   "execution_count": 19,
   "metadata": {},
   "outputs": [
    {
     "name": "stdout",
     "output_type": "stream",
     "text": [
      "Enter the radius of a circle: 0.5\n",
      "Area of Circle with 0.5 is 0.7855\n"
     ]
    }
   ],
   "source": [
    "radius=float(input(\"Enter the radius of a circle: \"))\n",
    "# Area of circle formula=pi*r^2\n",
    "print(\"Area of Circle with\",radius,\"is\",3.142*radius*radius)"
   ]
  },
  {
   "cell_type": "markdown",
   "metadata": {},
   "source": [
    "\n",
    "\n",
    "    Check Number either positive, negative or zero::\n",
    "\n",
    "Write a Python program to check if a number is positive,\n",
    "\n",
    "negative or zero\n",
    "\n",
    "Program Console Sample Output 1:\n",
    "\n",
    "Enter Number: -1\n",
    "\n",
    "Negative Number Entered\n",
    "\n",
    "Program Console Sample Output 2:\n",
    "\n",
    "Integer: 3\n",
    "\n",
    "Positive Number Entered\n",
    "\n",
    "Program Console Sample Output 3:\n",
    "\n",
    "Integer: 0\n",
    "\n",
    "Zero Entered\n"
   ]
  },
  {
   "cell_type": "code",
   "execution_count": 23,
   "metadata": {},
   "outputs": [
    {
     "name": "stdout",
     "output_type": "stream",
     "text": [
      "Enter Number:-2\n",
      "Negative Number Entered\n"
     ]
    }
   ],
   "source": [
    "number=int(input(\"Enter Number:\"))\n",
    "if number==0:\n",
    "    print(\"Zero entered\")\n",
    "    \n",
    "elif number>0:\n",
    "    print(\"Positive Number Entered\")\n",
    "    \n",
    "else:\n",
    "    print(\"Negative Number Entered\")"
   ]
  },
  {
   "cell_type": "markdown",
   "metadata": {},
   "source": [
    "    Vowel Tester Write a Python program to test whether a passed letter is a vowel or not\n",
    "\n",
    "Program Console Output 1:\n",
    "\n",
    "Enter a character: A\n",
    "\n",
    "Letter A is Vowel\n",
    "\n",
    "Program Console Output 2:\n",
    "\n",
    "Enter a character: e\n",
    "\n",
    "Letter e is Vowel\n",
    "\n",
    "Program Console Output 2:\n",
    "\n",
    "Enter a character: N\n",
    "\n",
    "Letter N is not Vowel."
   ]
  },
  {
   "cell_type": "code",
   "execution_count": 42,
   "metadata": {},
   "outputs": [
    {
     "name": "stdout",
     "output_type": "stream",
     "text": [
      "Enter a character: G\n",
      "Letter G is not Vowel\n"
     ]
    }
   ],
   "source": [
    "letter=str(input(\"Enter a character: \"))\n",
    "if letter== 'a' or letter=='e' or letter=='i' or letter=='o' or letter=='u' or letter== 'A' or letter=='E' or letter=='I' or letter=='O' or letter=='U' :\n",
    "    print(\"Letter\",letter,\"is Vowel\")\n",
    "else:\n",
    "    print(\"Letter\",letter,\"is not Vowel\")"
   ]
  },
  {
   "cell_type": "code",
   "execution_count": 49,
   "metadata": {},
   "outputs": [
    {
     "name": "stdout",
     "output_type": "stream",
     "text": [
      "Enter a character: f\n",
      "Letter f is not Vowel\n"
     ]
    }
   ],
   "source": [
    "# Another Method\n",
    "l=input(\"Enter a character: \")\n",
    "vowels=['a','e','i','o','u','A','E','I','O','U']\n",
    "if l==vowels:\n",
    "    print(\"Letter\",l,\"is Vowel\")\n",
    "else:\n",
    "    print(\"Letter\",l,\"is not Vowel\")"
   ]
  },
  {
   "cell_type": "markdown",
   "metadata": {},
   "source": [
    "\n",
    "\n",
    "    BMI Calculator\n",
    "\n",
    "Write a Python program to calculate body mass index Program Console Sample 1:\n",
    "\n",
    "Enter Height in Cm: 180\n",
    "\n",
    "Enter Weight in Kg: 75\n",
    "\n",
    "Your BMI is 23.15\n"
   ]
  },
  {
   "cell_type": "code",
   "execution_count": 69,
   "metadata": {},
   "outputs": [
    {
     "name": "stdout",
     "output_type": "stream",
     "text": [
      "Enter Height in Cm: 180\n",
      "Enter Weight in Kg: 75\n",
      "Your BMI is 23.148148148148145\n"
     ]
    }
   ],
   "source": [
    "height=int(input(\"Enter Height in Cm: \"))\n",
    "weight=int(input(\"Enter Weight in Kg: \"))\n",
    "BMI=weight/(height/100)**2\n",
    "print (\"Your BMI is\",BMI)\n"
   ]
  },
  {
   "cell_type": "markdown",
   "metadata": {},
   "source": [
    "\n",
    "\n",
    "List::\n",
    "\n",
    "    Store the names of a few of your friends in a list called names\n",
    "\n",
    "    Print each person’s name by accessing each element in the list, one at a time.\n",
    "\n"
   ]
  },
  {
   "cell_type": "code",
   "execution_count": 75,
   "metadata": {},
   "outputs": [
    {
     "name": "stdout",
     "output_type": "stream",
     "text": [
      "Tuba\n",
      "Areeba\n",
      "Sameen\n",
      "Anas\n",
      "Anees\n"
     ]
    }
   ],
   "source": [
    "ls=[\"Tuba\",\"Areeba\",\"Sameen\",\"Anas\",\"Anees\"]\n",
    "print(ls[0])\n",
    "print(ls[1])\n",
    "print(ls[2])\n",
    "print(ls[3])\n",
    "print(ls[4])"
   ]
  },
  {
   "cell_type": "markdown",
   "metadata": {},
   "source": [
    "Start with the list you used in Question 4, but instead of just printing each person’s name, print a message to them. The text of each message should be the same, but each message should be personalized with the person’s name."
   ]
  },
  {
   "cell_type": "code",
   "execution_count": 76,
   "metadata": {},
   "outputs": [
    {
     "name": "stdout",
     "output_type": "stream",
     "text": [
      "Tuba Hello World\n",
      "Areeba Hello World\n",
      "Sameen Hello World\n",
      "Anas Hello World\n",
      "Anees Hello World\n"
     ]
    }
   ],
   "source": [
    "ls=[\"Tuba\",\"Areeba\",\"Sameen\",\"Anas\",\"Anees\"]\n",
    "a= \"Hello World\"\n",
    "print(ls[0],a)\n",
    "print(ls[1],a)\n",
    "print(ls[2],a)\n",
    "print(ls[3],a)\n",
    "print(ls[4],a)"
   ]
  },
  {
   "cell_type": "markdown",
   "metadata": {},
   "source": [
    "Make a python program that conatains your nine favourite dishes in a list called foods. Print the message, The first three items in the list are:\n",
    "\n",
    "Then use a slice to print the first three items from that program’s list.\n",
    "\n",
    "Print the message, Three items from the middle of the list are:\n",
    "\n",
    "Use a slice to print three items from the middle of the list.\n",
    "\n",
    "Print the message, The last three items in the list are:\n",
    "\n",
    "Use a slice to print the last three items in the list."
   ]
  },
  {
   "cell_type": "code",
   "execution_count": 86,
   "metadata": {},
   "outputs": [
    {
     "name": "stdout",
     "output_type": "stream",
     "text": [
      "The first three items are ['Pizza', 'Biryani', 'Pasta']\n",
      "Three items from middle are ['Nihari', 'Qorma', 'Broast']\n",
      "The last three items are ['Zinger Burger', 'Karahi', 'Stake']\n"
     ]
    }
   ],
   "source": [
    "foods=[\"Pizza\",\"Biryani\",\"Pasta\",\"Nihari\",\"Qorma\",\"Broast\",\"Zinger Burger\",\"Karahi\",\"Stake\"]\n",
    "print(\"The first three items are\",foods[:3])\n",
    "print(\"Three items from middle are\",foods[3:6])\n",
    "print(\"The last three items are\",foods[6:])"
   ]
  },
  {
   "cell_type": "markdown",
   "metadata": {},
   "source": [
    "\n",
    "\n",
    "    Start with your program from your last Question8. Make a copy of the list of foods, and call it friend_foods. Then, do the following:\n",
    "\n",
    "Add a new dish to the original list.\n",
    "\n",
    "Add a different dish to the list friend_foods.\n",
    "\n",
    "Prove that you have two separate lists.\n",
    "\n"
   ]
  },
  {
   "cell_type": "code",
   "execution_count": 97,
   "metadata": {},
   "outputs": [
    {
     "name": "stdout",
     "output_type": "stream",
     "text": [
      "['Pizza', 'Biryani', 'Pasta', 'Nihari', 'Qorma', 'Broast', 'Zinger Burger', 'Karahi', 'Stake', 'Pulao']\n",
      "['Pizza', 'Biryani', 'Pasta', 'Nihari', 'Qorma', 'Broast', 'Zinger Burger', 'Karahi', 'Stake', 'Qeema']\n"
     ]
    }
   ],
   "source": [
    "foods=[\"Pizza\",\"Biryani\",\"Pasta\",\"Nihari\",\"Qorma\",\"Broast\",\"Zinger Burger\",\"Karahi\",\"Stake\"]\n",
    "friend_foods=[\"Pizza\",\"Biryani\",\"Pasta\",\"Nihari\",\"Qorma\",\"Broast\",\"Zinger Burger\",\"Karahi\",\"Stake\"]\n",
    "foods.append(\"Pulao\")\n",
    "friend_foods.append(\"Qeema\")\n",
    "print(foods)\n",
    "print(friend_foods)\n",
    "\n"
   ]
  },
  {
   "cell_type": "markdown",
   "metadata": {},
   "source": [
    "Print the message, My favorite pizzas are: and then use a for loop to print the first list.\n",
    "\n",
    "Print the message,\n",
    "\n",
    "My friend’s favorite foods are:, and then use a for loop to print the second list.\n",
    "\n",
    "NOTE: Make sure each new dish is stored in the appropriate list.\n"
   ]
  },
  {
   "cell_type": "code",
   "execution_count": 98,
   "metadata": {},
   "outputs": [
    {
     "name": "stdout",
     "output_type": "stream",
     "text": [
      "My favourite foods are: Pizza\n",
      "My favourite foods are: Biryani\n",
      "My favourite foods are: Pasta\n",
      "My favourite foods are: Nihari\n",
      "My favourite foods are: Qorma\n",
      "My favourite foods are: Broast\n",
      "My favourite foods are: Zinger Burger\n",
      "My favourite foods are: Karahi\n",
      "My favourite foods are: Stake\n",
      "My friend’s favorite foods are: Pizza\n",
      "My friend’s favorite foods are: Biryani\n",
      "My friend’s favorite foods are: Pasta\n",
      "My friend’s favorite foods are: Nihari\n",
      "My friend’s favorite foods are: Qorma\n",
      "My friend’s favorite foods are: Broast\n",
      "My friend’s favorite foods are: Zinger Burger\n",
      "My friend’s favorite foods are: Karahi\n",
      "My friend’s favorite foods are: Stake\n"
     ]
    }
   ],
   "source": [
    "foods=[\"Pizza\",\"Biryani\",\"Pasta\",\"Nihari\",\"Qorma\",\"Broast\",\"Zinger Burger\",\"Karahi\",\"Stake\"]\n",
    "friend_foods=[\"Pizza\",\"Biryani\",\"Pasta\",\"Nihari\",\"Qorma\",\"Broast\",\"Zinger Burger\",\"Karahi\",\"Stake\"]\n",
    "for items1 in foods:\n",
    "    print(\"My favourite foods are:\",items1)\n",
    "\n",
    "for items2 in friend_foods:\n",
    "    print(\"My friend’s favorite foods are:\",items2)"
   ]
  },
  {
   "cell_type": "code",
   "execution_count": null,
   "metadata": {},
   "outputs": [],
   "source": []
  }
 ],
 "metadata": {
  "kernelspec": {
   "display_name": "Python 3",
   "language": "python",
   "name": "python3"
  },
  "language_info": {
   "codemirror_mode": {
    "name": "ipython",
    "version": 3
   },
   "file_extension": ".py",
   "mimetype": "text/x-python",
   "name": "python",
   "nbconvert_exporter": "python",
   "pygments_lexer": "ipython3",
   "version": "3.8.10"
  }
 },
 "nbformat": 4,
 "nbformat_minor": 4
}
